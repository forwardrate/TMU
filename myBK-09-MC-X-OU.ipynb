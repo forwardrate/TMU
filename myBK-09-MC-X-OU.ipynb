{
 "cells": [
  {
   "cell_type": "markdown",
   "metadata": {},
   "source": [
    "**カリブレーション数値(sigma 0.396%)の検証**"
   ]
  },
  {
   "cell_type": "code",
   "execution_count": 1,
   "metadata": {},
   "outputs": [
    {
     "name": "stdout",
     "output_type": "stream",
     "text": [
      "決済日(reference):  2022-08-23\n"
     ]
    },
    {
     "data": {
      "text/html": [
       "<style type=\"text/css\">\n",
       "</style>\n",
       "<table id=\"T_8743c_\">\n",
       "  <thead>\n",
       "    <tr>\n",
       "      <th class=\"blank level0\" >&nbsp;</th>\n",
       "      <th class=\"col_heading level0 col0\" ></th>\n",
       "      <th class=\"col_heading level0 col1\" >DF</th>\n",
       "    </tr>\n",
       "  </thead>\n",
       "  <tbody>\n",
       "    <tr>\n",
       "      <th id=\"T_8743c_level0_row0\" class=\"row_heading level0 row0\" >0</th>\n",
       "      <td id=\"T_8743c_row0_col0\" class=\"data row0 col0\" >2022-08-23</td>\n",
       "      <td id=\"T_8743c_row0_col1\" class=\"data row0 col1\" >1.000000000</td>\n",
       "    </tr>\n",
       "    <tr>\n",
       "      <th id=\"T_8743c_level0_row1\" class=\"row_heading level0 row1\" >1</th>\n",
       "      <td id=\"T_8743c_row1_col0\" class=\"data row1 col0\" >2023-02-24</td>\n",
       "      <td id=\"T_8743c_row1_col1\" class=\"data row1 col1\" >0.999309338</td>\n",
       "    </tr>\n",
       "    <tr>\n",
       "      <th id=\"T_8743c_level0_row2\" class=\"row_heading level0 row2\" >2</th>\n",
       "      <td id=\"T_8743c_row2_col0\" class=\"data row2 col0\" >2023-08-23</td>\n",
       "      <td id=\"T_8743c_row2_col1\" class=\"data row2 col1\" >0.998476779</td>\n",
       "    </tr>\n",
       "    <tr>\n",
       "      <th id=\"T_8743c_level0_row3\" class=\"row_heading level0 row3\" >3</th>\n",
       "      <td id=\"T_8743c_row3_col0\" class=\"data row3 col0\" >2024-02-26</td>\n",
       "      <td id=\"T_8743c_row3_col1\" class=\"data row3 col1\" >0.997170374</td>\n",
       "    </tr>\n",
       "    <tr>\n",
       "      <th id=\"T_8743c_level0_row4\" class=\"row_heading level0 row4\" >4</th>\n",
       "      <td id=\"T_8743c_row4_col0\" class=\"data row4 col0\" >2024-08-23</td>\n",
       "      <td id=\"T_8743c_row4_col1\" class=\"data row4 col1\" >0.995895547</td>\n",
       "    </tr>\n",
       "  </tbody>\n",
       "</table>\n"
      ],
      "text/plain": [
       "<pandas.io.formats.style.Styler at 0x1e4876074f0>"
      ]
     },
     "execution_count": 1,
     "metadata": {},
     "output_type": "execute_result"
    }
   ],
   "source": [
    "import QuantLib as ql ; import matplotlib.pyplot as plt ; import numpy as np \n",
    "import pandas as pd ; import myUtil as mu ; from myABBR import *\n",
    "tradeDT = mu.jDT(2022,8,19) ; mu.setEvDT(tradeDT)\n",
    "# Tiborカーブ準備\n",
    "crvDATA = [ ('depo','6m',0.13636),  ('swap','1y',0.15249),  ('swap','18m',0.18742), \n",
    "            ('swap','2y',0.20541),  ('swap','3y',0.23156),  ('swap','4y',0.25653), \n",
    "            ('swap','5y',0.28528),  ('swap','6y',0.32341),  ('swap','7y',0.36591), \n",
    "            ('swap','8y',0.40906),  ('swap','9y',0.45471),  ('swap','10y',0.50224)] \n",
    "tbrIX, tbCrvOBJ, tbCrvHDL, tbParRATE = mu.makeTiborCurve(crvDATA)\n",
    "# check\n",
    "nodesDF = pd.DataFrame([(dt.ISO(),df) for dt,df in tbCrvOBJ.nodes()], \n",
    "                                                                columns=['','DF'])\n",
    "print(\"決済日(reference): \", tbCrvOBJ.referenceDate().ISO())\n",
    "nodesDF[:5].style.format({'DF':'{:.9f}' })"
   ]
  },
  {
   "cell_type": "code",
   "execution_count": 2,
   "metadata": {},
   "outputs": [
    {
     "name": "stdout",
     "output_type": "stream",
     "text": [
      "rndSEQ: (0.12767750725046909, -1.4704136361301596)\n",
      "timeGRD  :  [0.0, 0.5, 1.0]\n",
      "mtrxPT:  [[0.0, 0.0015229909011613956, 0.004263603909036631], [0.0, -0.0015306663718557812, -0.004755098971343507]]\n",
      "endX: [ 0.0042636 -0.0047551]\n"
     ]
    }
   ],
   "source": [
    "# MC初期設定(rSeed:乱数シード番号  mtrxPT:各パスのデータ保存用)\n",
    "nPATH, nSTEP, YRs,    sigma,    aa,   rSeed, mtrxPT         =\\\n",
    "2,       2,     1,   0.396/100, 0.03,    3,     []  \n",
    "# x過程と乱数列\n",
    "xPROC    = ql.ExtendedOrnsteinUhlenbeckProcess(aa, sigma, 0.0, lambda x: 0.0)\n",
    "gsSeqRNG = ql.GaussianRandomSequenceGenerator(\n",
    "        ql.UniformRandomSequenceGenerator(nSTEP,ql.UniformRandomGenerator(rSeed)))\n",
    "rndSEQ   = gsSeqRNG.nextSequence().value(); print('rndSEQ:',rndSEQ)    # checking\n",
    "gsPathGN = ql.GaussianPathGenerator(xPROC, YRs, nSTEP, gsSeqRNG, False) \n",
    "\n",
    "# 各パスのグリッドデータのmtrxPTへの保存(nextメソッドで乱数を発生、valueで値を取得)\n",
    "for nn in range(nPATH):\n",
    "    onePT = gsPathGN.next().value()     \n",
    "    mtrxPT.append([onePT[ii] for ii in range(len(onePT))])\n",
    "# 最後のonePTから時間軸を作成 (timeメソッドで時間軸の値を取得)    \n",
    "timeGRD = [onePT.time(ii) for ii in range(len(onePT))]\n",
    "print('timeGRD  : ',timeGRD) ; print('mtrxPT: ',mtrxPT)\n",
    "endX = np.array(mtrxPT)[:,-1] ; print('endX:',endX[:2])    # endXは各パスの最後の値"
   ]
  },
  {
   "cell_type": "code",
   "execution_count": 3,
   "metadata": {},
   "outputs": [
    {
     "data": {
      "image/png": "[encoded data removed]",
      "text/plain": [
       "<Figure size 432x288 with 1 Axes>"
      ]
     },
     "metadata": {
      "needs_background": "light"
     },
     "output_type": "display_data"
    }
   ],
   "source": [
    "# パスplot\n",
    "fig, ax = plt.subplots()\n",
    "for ii in range(nPATH): ax.plot(timeGRD, mtrxPT[ii])\n",
    "ax.set_title(\"x process simulation\")\n",
    "ax.grid(linestyle='--',linewidth=1);     "
   ]
  },
  {
   "cell_type": "code",
   "execution_count": 4,
   "metadata": {},
   "outputs": [
    {
     "data": {
      "text/html": [
       "<style type=\"text/css\">\n",
       "</style>\n",
       "<table id=\"T_44a54_\">\n",
       "  <thead>\n",
       "    <tr>\n",
       "      <th class=\"blank level0\" >&nbsp;</th>\n",
       "      <th class=\"col_heading level0 col0\" >cfYR</th>\n",
       "      <th class=\"col_heading level0 col1\" >tnrLST</th>\n",
       "      <th class=\"col_heading level0 col2\" >nowDF</th>\n",
       "    </tr>\n",
       "  </thead>\n",
       "  <tbody>\n",
       "    <tr>\n",
       "      <th id=\"T_44a54_level0_row0\" class=\"row_heading level0 row0\" >0</th>\n",
       "      <td id=\"T_44a54_row0_col0\" class=\"data row0 col0\" >1.000</td>\n",
       "      <td id=\"T_44a54_row0_col1\" class=\"data row0 col1\" >0.000</td>\n",
       "      <td id=\"T_44a54_row0_col2\" class=\"data row0 col2\" >0.998477</td>\n",
       "    </tr>\n",
       "    <tr>\n",
       "      <th id=\"T_44a54_level0_row1\" class=\"row_heading level0 row1\" >1</th>\n",
       "      <td id=\"T_44a54_row1_col0\" class=\"data row1 col0\" >1.512</td>\n",
       "      <td id=\"T_44a54_row1_col1\" class=\"data row1 col1\" >0.512</td>\n",
       "      <td id=\"T_44a54_row1_col2\" class=\"data row1 col2\" >0.997170</td>\n",
       "    </tr>\n",
       "    <tr>\n",
       "      <th id=\"T_44a54_level0_row2\" class=\"row_heading level0 row2\" >2</th>\n",
       "      <td id=\"T_44a54_row2_col0\" class=\"data row2 col0\" >2.003</td>\n",
       "      <td id=\"T_44a54_row2_col1\" class=\"data row2 col1\" >0.490</td>\n",
       "      <td id=\"T_44a54_row2_col2\" class=\"data row2 col2\" >0.995896</td>\n",
       "    </tr>\n",
       "    <tr>\n",
       "      <th id=\"T_44a54_level0_row3\" class=\"row_heading level0 row3\" >3</th>\n",
       "      <td id=\"T_44a54_row3_col0\" class=\"data row3 col0\" >2.512</td>\n",
       "      <td id=\"T_44a54_row3_col1\" class=\"data row3 col1\" >0.510</td>\n",
       "      <td id=\"T_44a54_row3_col2\" class=\"data row3 col2\" >0.994457</td>\n",
       "    </tr>\n",
       "    <tr>\n",
       "      <th id=\"T_44a54_level0_row4\" class=\"row_heading level0 row4\" >4</th>\n",
       "      <td id=\"T_44a54_row4_col0\" class=\"data row4 col0\" >3.008</td>\n",
       "      <td id=\"T_44a54_row4_col1\" class=\"data row4 col1\" >0.496</td>\n",
       "      <td id=\"T_44a54_row4_col2\" class=\"data row4 col2\" >0.993059</td>\n",
       "    </tr>\n",
       "    <tr>\n",
       "      <th id=\"T_44a54_level0_row5\" class=\"row_heading level0 row5\" >5</th>\n",
       "      <td id=\"T_44a54_row5_col0\" class=\"data row5 col0\" >3.510</td>\n",
       "      <td id=\"T_44a54_row5_col1\" class=\"data row5 col1\" >0.501</td>\n",
       "      <td id=\"T_44a54_row5_col2\" class=\"data row5 col2\" >0.991408</td>\n",
       "    </tr>\n",
       "    <tr>\n",
       "      <th id=\"T_44a54_level0_row6\" class=\"row_heading level0 row6\" >6</th>\n",
       "      <td id=\"T_44a54_row6_col0\" class=\"data row6 col0\" >4.005</td>\n",
       "      <td id=\"T_44a54_row6_col1\" class=\"data row6 col1\" >0.496</td>\n",
       "      <td id=\"T_44a54_row6_col2\" class=\"data row6 col2\" >0.989777</td>\n",
       "    </tr>\n",
       "    <tr>\n",
       "      <th id=\"T_44a54_level0_row7\" class=\"row_heading level0 row7\" >7</th>\n",
       "      <td id=\"T_44a54_row7_col0\" class=\"data row7 col0\" >4.510</td>\n",
       "      <td id=\"T_44a54_row7_col1\" class=\"data row7 col1\" >0.504</td>\n",
       "      <td id=\"T_44a54_row7_col2\" class=\"data row7 col2\" >0.987776</td>\n",
       "    </tr>\n",
       "    <tr>\n",
       "      <th id=\"T_44a54_level0_row8\" class=\"row_heading level0 row8\" >8</th>\n",
       "      <td id=\"T_44a54_row8_col0\" class=\"data row8 col0\" >5.003</td>\n",
       "      <td id=\"T_44a54_row8_col1\" class=\"data row8 col1\" >0.493</td>\n",
       "      <td id=\"T_44a54_row8_col2\" class=\"data row8 col2\" >0.985823</td>\n",
       "    </tr>\n",
       "    <tr>\n",
       "      <th id=\"T_44a54_level0_row9\" class=\"row_heading level0 row9\" >9</th>\n",
       "      <td id=\"T_44a54_row9_col0\" class=\"data row9 col0\" >5.510</td>\n",
       "      <td id=\"T_44a54_row9_col1\" class=\"data row9 col1\" >0.507</td>\n",
       "      <td id=\"T_44a54_row9_col2\" class=\"data row9 col2\" >0.983253</td>\n",
       "    </tr>\n",
       "    <tr>\n",
       "      <th id=\"T_44a54_level0_row10\" class=\"row_heading level0 row10\" >10</th>\n",
       "      <td id=\"T_44a54_row10_col0\" class=\"data row10 col0\" >6.005</td>\n",
       "      <td id=\"T_44a54_row10_col1\" class=\"data row10 col1\" >0.496</td>\n",
       "      <td id=\"T_44a54_row10_col2\" class=\"data row10 col2\" >0.980744</td>\n",
       "    </tr>\n",
       "  </tbody>\n",
       "</table>\n"
      ],
      "text/plain": [
       "<pandas.io.formats.style.Styler at 0x1e488f12c40>"
      ]
     },
     "execution_count": 4,
     "metadata": {},
     "output_type": "execute_result"
    }
   ],
   "source": [
    "# 原資産の条件, スケジュール:fixSCD, ストライク:strkRT\n",
    "effDT,                     matDT,        ntlAMT,     cpnRT,      strkRT       =\\\n",
    "mu.jDT(2023,8,23), mu.jDT(2028,8,23), 10_000_000,  0.3579/100,  0.3579/100 \n",
    "fixSCD = ql.Schedule(effDT, matDT, pdFreqSA, calJP, mFLLW, mFLLW, dgRULEb, EoMf)\n",
    "\n",
    "#cfYR:キャッシュフロー日までの年数, tnrLST:テナー, nowDF:現在のDF\n",
    "cfYR   = [dcA365.yearFraction(tbCrvOBJ.referenceDate(), dd) for dd in fixSCD]\n",
    "tnrLST = np.diff([dcA365.yearFraction(fixSCD.startDate(), dd) for dd in fixSCD])\n",
    "nowDF = [tbCrvOBJ.discount(dd) for dd in fixSCD]\n",
    "\n",
    "# 一覧df\n",
    "dfSCD = pd.DataFrame(dict( cfYR=cfYR, tnrLST=np.append(0,tnrLST), nowDF=nowDF ))\n",
    "dfSCD.style.format({'cfYR':'{:.3f}', 'tnrLST':'{:.3f}'})"
   ]
  },
  {
   "cell_type": "code",
   "execution_count": 5,
   "metadata": {},
   "outputs": [
    {
     "data": {
      "text/plain": [
       "[array([1.        , 0.9965233 , 0.99320809, 0.98968779, 0.98630096,\n",
       "        0.9826767 , 0.97913099, 0.97522491, 0.97144375, 0.96703987,\n",
       "        0.96277495]),\n",
       " array([1.        , 1.00110307, 1.00209586, 1.00297313, 1.00379017,\n",
       "        1.00433649, 1.0048413 , 1.00496777, 1.00505711, 1.0045342 ,\n",
       "        1.00398932])]"
      ]
     },
     "execution_count": 5,
     "metadata": {},
     "output_type": "execute_result"
    }
   ],
   "source": [
    "# A関数 B関数\n",
    "def BB(tt,TT):\n",
    "    return (1-np.exp(-aa*(TT-tt)))/aa\n",
    "def AA(tt,TT):\n",
    "    return -0.25* sigma**2 *BB(tt,TT)*(BB(tt,TT)*BB(0,2*tt)+2* BB(0,tt)**2)\n",
    "\n",
    "# HW価格式の係数\n",
    "fwdLST = np.array([ii/dfSCD.nowDF[0]    for ii in dfSCD.nowDF])\n",
    "aaLST  = np.array([AA(dfSCD.cfYR[0], ii) for ii in dfSCD.cfYR]) \n",
    "bbLST  = np.array([BB(dfSCD.cfYR[0], ii) for ii in dfSCD.cfYR]) \n",
    "# 各パスの最後のX(endX)を使い、1年先のイールドカーブから\n",
    "# 原資産キャッシュフロー日のDF(HW価格)を計算\n",
    "pathDF = [fwdLST * np.exp( aaLST - ii*bbLST) for ii in endX] ; pathDF[:2] "
   ]
  },
  {
   "cell_type": "code",
   "execution_count": 6,
   "metadata": {},
   "outputs": [
    {
     "name": "stdout",
     "output_type": "stream",
     "text": [
      "itmRT(before):  [ 0.00400627 -0.004373  ]\n",
      "itmRT(after) :  [0.00400627 0.        ]\n",
      "swptnNPV: 98,154.96\n"
     ]
    }
   ],
   "source": [
    "#ITMレート計算 (annu:アニュイティ)\n",
    "annu  = np.array([(ii*np.array(dfSCD.tnrLST)).sum() for ii in pathDF])\n",
    "itmRT = np.array([(ii[0]-ii[-1]) for ii in pathDF])/annu - strkRT \n",
    "print('itmRT(before): ', itmRT[:2])\n",
    "\n",
    "# マイナス要素をゼロへ置き換え (condIX:マイナス要素flag)\n",
    "condIX = np.where(itmRT<0) ; itmRT[condIX] = 0 \n",
    "print('itmRT(after) : ', itmRT[:2])\n",
    "\n",
    "# スワップション価格\n",
    "swptnNPV = np.array([itmRT*annu]).sum() / nPATH * ntlAMT * dfSCD.nowDF[0]\n",
    "print(f'swptnNPV: {swptnNPV:,.2f}')"
   ]
  }
 ],
 "metadata": {
  "interpreter": {
   "hash": "a077222d77dfe082b8f1dd562ad70e458ac2ab76993a0b248ab0476e32e9e8dd"
  },
  "kernelspec": {
   "display_name": "Python 3 (ipykernel)",
   "language": "python",
   "name": "python3"
  },
  "language_info": {
   "codemirror_mode": {
    "name": "ipython",
    "version": 3
   },
   "file_extension": ".py",
   "mimetype": "text/x-python",
   "name": "python",
   "nbconvert_exporter": "python",
   "pygments_lexer": "ipython3",
   "version": "3.9.7"
  }
 },
 "nbformat": 4,
 "nbformat_minor": 2
}
