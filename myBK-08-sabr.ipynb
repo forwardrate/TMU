{
 "cells": [
  {
   "cell_type": "markdown",
   "metadata": {},
   "source": [
    "**Sabr Model**  \n",
    "(StackEx) **[SABR Model Pricing Engine in Python QuantLib](https://quant.stackexchange.com/questions/57786/sabr-model-pricing-engine-in-python-quantlib)**\n"
   ]
  },
  {
   "cell_type": "markdown",
   "metadata": {},
   "source": [
    "<img src='sabrVol-const.png' width='600'>"
   ]
  },
  {
   "cell_type": "code",
   "execution_count": 1,
   "metadata": {},
   "outputs": [
    {
     "data": {
      "text/plain": [
       "0.33284656705268817"
      ]
     },
     "execution_count": 1,
     "metadata": {},
     "output_type": "execute_result"
    }
   ],
   "source": [
    "import QuantLib as ql\n",
    "alpha, beta,  nu,   rho    =\\\n",
    "1.63,  0.6,  3.3, 0.00002\n",
    "ql.sabrVolatility(106, 120, 17/365, alpha, beta, nu, rho)"
   ]
  },
  {
   "cell_type": "markdown",
   "metadata": {},
   "source": [
    "- op.minimizeのbounds, constraintsの書き方は神戸大学 [SciPy.optimize：解の求め方と最適化問題](https://py4basics.github.io/7_SciPy_optimize.html)を参照\n",
    "- op.minimizeの戻り値は辞書。従って fndMIN.xと書ける。\n",
    "- StackExではconstraintsを使用<< 書き方の参考になる\n",
    "- 誤差の計算で、RMSEは動いたが、MSEではエラーになった！"
   ]
  },
  {
   "cell_type": "code",
   "execution_count": 2,
   "metadata": {},
   "outputs": [
    {
     "data": {
      "text/plain": [
       "     fun: 0.013880599265542417\n",
       "     jac: array([-3.07326054e-03,  5.25782531e-02, -7.93550862e-05,  2.18536006e-05])\n",
       " message: 'Optimization terminated successfully'\n",
       "    nfev: 133\n",
       "     nit: 25\n",
       "    njev: 25\n",
       "  status: 0\n",
       " success: True\n",
       "       x: array([0.03059125, 0.5       , 0.72824922, 0.44935808])"
      ]
     },
     "execution_count": 2,
     "metadata": {},
     "output_type": "execute_result"
    }
   ],
   "source": [
    "import QuantLib as ql ; import matplotlib.pyplot as plt\n",
    "import numpy as np ;    import scipy.optimize as op\n",
    "\n",
    "fwdRT,    YR,    PRMs,           BNDs                                 =\\\n",
    "0.0056,   2.0, [0.1]*4, [(0,None),(0,1),(0,None),(0,1)]  \n",
    "                 # PRMs=[  alpha, beta,  volvol,  rho ]\n",
    "CNSTs = ({'type':'eq', 'fun':lambda x:0.5-x[1]})          #fix Beta=0.5\n",
    "STKs  = [0.0006,0.0031,0.0056,0.0081,0.0106,0.0156,0.0256]\n",
    "mVols = [0.9078,0.4609,0.453, 0.5017,0.5385,0.5842,0.6272]\n",
    "\n",
    "def calcRMSE(PRMs):\n",
    "    vols = [ql.sabrVolatility(XX, fwdRT, YR, *PRMs) for XX in STKs]\n",
    "    return ((np.array(vols) - np.array(mVols))**2 ).mean()**.5\n",
    "\n",
    "fndMIN = op.minimize(calcRMSE, PRMs, bounds=BNDs, constraints=CNSTs) ; fndMIN"
   ]
  },
  {
   "cell_type": "code",
   "execution_count": 3,
   "metadata": {},
   "outputs": [
    {
     "name": "stdout",
     "output_type": "stream",
     "text": [
      "calc Vols: 0.8970, 0.4850, 0.4491, 0.4892, 0.5279, 0.5833, 0.6464, "
     ]
    },
    {
     "data": {
      "image/png": "[encoded data removed]",
      "text/plain": [
       "<Figure size 432x288 with 1 Axes>"
      ]
     },
     "metadata": {
      "needs_background": "light"
     },
     "output_type": "display_data"
    }
   ],
   "source": [
    "print('calc Vols: ', end='')\n",
    "cVols = [ql.sabrVolatility(XX, fwdRT, YR, *fndMIN.x) for XX in STKs]\n",
    "for vv in cVols: print(f'{vv:.4f}', end=', ')\n",
    "plt.plot(STKs, mVols, marker='o', label=\"market\")\n",
    "plt.plot(STKs, cVols, marker='o', label=\"SABR\")\n",
    "plt.legend();"
   ]
  }
 ],
 "metadata": {
  "interpreter": {
   "hash": "a077222d77dfe082b8f1dd562ad70e458ac2ab76993a0b248ab0476e32e9e8dd"
  },
  "kernelspec": {
   "display_name": "Python 3 (ipykernel)",
   "language": "python",
   "name": "python3"
  },
  "language_info": {
   "codemirror_mode": {
    "name": "ipython",
    "version": 3
   },
   "file_extension": ".py",
   "mimetype": "text/x-python",
   "name": "python",
   "nbconvert_exporter": "python",
   "pygments_lexer": "ipython3",
   "version": "3.9.7"
  }
 },
 "nbformat": 4,
 "nbformat_minor": 2
}
