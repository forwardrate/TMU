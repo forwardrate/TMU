{
 "cells": [
  {
   "cell_type": "markdown",
   "metadata": {},
   "source": [
    "**3m Term SOFR Cap**"
   ]
  },
  {
   "cell_type": "markdown",
   "metadata": {},
   "source": [
    "**SOFRスワップ**\n",
    "**([settleDays = 0 でのエラー回避法](https://stackoverflow.com/questions/37159215/jpylibor-fixing-during-japanese-holiday-negative-time-error))**\n",
    "- curveOBJ.discount(date) のdateがカーブsettleDTよりも過去の場合 マイナスの日付でエラー\n",
    "- PiecewiseLogLinearDiscount(0, ... ) で回避可能  \n",
    "<img src='SOFR-Curve-Sep26,2023.png' width='600'>"
   ]
  },
  {
   "cell_type": "code",
   "execution_count": 1,
   "metadata": {},
   "outputs": [],
   "source": [
    "# crvDATA = [ ('depo','1d',5.31),    ('swap','1w',5.30978),  ('swap','2w',5.31252),\n",
    "#             ('swap','3w',5.31526), ('swap','1m',5.31958),  ('swap','2m',5.35225),\n",
    "#             ('swap','3m',5.3826),  ('swap','4m',5.413),    ('swap','5m',5.43675),\n",
    "#             ('swap','6m',5.455),   ('swap','7m',5.46963),  ('swap','8m',5.47425),\n",
    "#             ('swap','9m',5.47415), ('swap','10m',5.47165), ('swap','11m',5.46235),\n",
    "#             ('swap','12m',5.45038),('swap','18m',5.22235), ('swap','2y',5.00513),\n",
    "#             ('swap','3y',4.67081), ('swap','4y',4.48275),  ('swap','5y',4.38035),\n",
    "#             ('swap','6y',4.32195), ('swap','7y',4.28295),  ('swap','8y',4.259),\n",
    "#             ('swap','9y',4.24565), ('swap','10y',4.23835), ('swap','12y',4.23685),\n",
    "#             ('swap','15y',4.2395), ('swap','20y',4.195),   ('swap','25y',4.08925),\n",
    "#             ('swap','30y',3.98355),('swap','40y',3.7615),  ('swap','50y',3.54745)]    "
   ]
  },
  {
   "cell_type": "code",
   "execution_count": 2,
   "metadata": {},
   "outputs": [],
   "source": [
    "import QuantLib as ql ; import pandas as pd \n",
    "import myUtil as mu   ; from myABBR import * ; from scipy.stats import norm\n",
    "tradeDT = mu.jDT(2023,9,26)  ; mu.setEvDT(tradeDT)\n",
    "\n",
    "def makeSofrCurve(crvDATA):\n",
    "  '''makeSofrCurve(crvDATA)->[sofrIX,sfCrvOBJ,sfCrvHDL,sfParRATE]'''      \n",
    "  # 1.指標金利オブジェクトと初期値設定\n",
    "  sfCrvHDL = ql.RelinkableYieldTermStructureHandle()  \n",
    "  sofrIX = ql.Sofr(sfCrvHDL)\n",
    "  # 2. HelperとSOFRカーブオブジェクト\n",
    "  cHelper, sfParRATE = [], []\n",
    "  for knd, tnr, rt in crvDATA:\n",
    "      if knd == 'depo':\n",
    "          if ql.Period(tnr).length() == 1:\n",
    "              cHelper.append(ql.DepositRateHelper(mu.sqHDL(rt/100),sofrIX)) \n",
    "      if knd == 'swap': cHelper.append(\n",
    "          ql.OISRateHelper(Tp2, ql.Period(tnr),mu.sqHDL(rt/100),sofrIX))\n",
    "      sfParRATE.append(rt/100)                             # パーレート用リスト\n",
    "  sfCrvOBJ = ql.PiecewiseLogLinearDiscount(Tp0, calUSs, cHelper, dcA360)\n",
    "  sfCrvHDL.linkTo(sfCrvOBJ) ; sfCrvOBJ.enableExtrapolation()\n",
    "  return [sofrIX, sfCrvOBJ, sfCrvHDL, sfParRATE]      # 4つのオブジェクトを戻す"
   ]
  },
  {
   "cell_type": "code",
   "execution_count": 3,
   "metadata": {},
   "outputs": [],
   "source": [
    "crvDATA = [ ('depo','1d',5.31),    ('swap','1w',5.30978),  ('swap','2w',5.31252),\n",
    "            ('swap','3w',5.31526), ('swap','1m',5.31958),  ('swap','2m',5.35225),\n",
    "            ('swap','3m',5.3826),  ('swap','4m',5.413),    ('swap','5m',5.43675),\n",
    "            ('swap','6m',5.455),   ('swap','7m',5.46963),  ('swap','8m',5.47425),\n",
    "            ('swap','9m',5.47415), ('swap','10m',5.47165), ('swap','11m',5.46235),\n",
    "            ('swap','12m',5.45038),('swap','18m',5.22235), ('swap','2y',5.00513),\n",
    "            ('swap','3y',4.67081), ('swap','4y',4.48275),  ('swap','5y',4.38035),\n",
    "            ('swap','6y',4.32195), ('swap','7y',4.28295),  ('swap','8y',4.259),\n",
    "            ('swap','9y',4.24565), ('swap','10y',4.23835), ('swap','12y',4.23685),\n",
    "            ('swap','15y',4.2395), ('swap','20y',4.195),   ('swap','25y',4.08925),\n",
    "            ('swap','30y',3.98355),('swap','40y',3.7615),  ('swap','50y',3.54745)] "
   ]
  },
  {
   "cell_type": "code",
   "execution_count": 4,
   "metadata": {},
   "outputs": [
    {
     "name": "stdout",
     "output_type": "stream",
     "text": [
      "決済日(reference):  2023-09-26\n"
     ]
    },
    {
     "data": {
      "text/html": [
       "<style type=\"text/css\">\n",
       "</style>\n",
       "<table id=\"T_b1936_\">\n",
       "  <thead>\n",
       "    <tr>\n",
       "      <th class=\"blank level0\" >&nbsp;</th>\n",
       "      <th class=\"col_heading level0 col0\" ></th>\n",
       "      <th class=\"col_heading level0 col1\" >DF</th>\n",
       "    </tr>\n",
       "  </thead>\n",
       "  <tbody>\n",
       "    <tr>\n",
       "      <th id=\"T_b1936_level0_row0\" class=\"row_heading level0 row0\" >1</th>\n",
       "      <td id=\"T_b1936_row0_col0\" class=\"data row0 col0\" >2023-09-27</td>\n",
       "      <td id=\"T_b1936_row0_col1\" class=\"data row0 col1\" >0.999852522</td>\n",
       "    </tr>\n",
       "    <tr>\n",
       "      <th id=\"T_b1936_level0_row1\" class=\"row_heading level0 row1\" >2</th>\n",
       "      <td id=\"T_b1936_row1_col0\" class=\"data row1 col0\" >2023-10-05</td>\n",
       "      <td id=\"T_b1936_row1_col1\" class=\"data row1 col1\" >0.998674048</td>\n",
       "    </tr>\n",
       "    <tr>\n",
       "      <th id=\"T_b1936_level0_row2\" class=\"row_heading level0 row2\" >3</th>\n",
       "      <td id=\"T_b1936_row2_col0\" class=\"data row2 col0\" >2023-10-12</td>\n",
       "      <td id=\"T_b1936_row2_col1\" class=\"data row2 col1\" >0.997644024</td>\n",
       "    </tr>\n",
       "    <tr>\n",
       "      <th id=\"T_b1936_level0_row3\" class=\"row_heading level0 row3\" >4</th>\n",
       "      <td id=\"T_b1936_row3_col0\" class=\"data row3 col0\" >2023-10-19</td>\n",
       "      <td id=\"T_b1936_row3_col1\" class=\"data row3 col1\" >0.996615063</td>\n",
       "    </tr>\n",
       "  </tbody>\n",
       "</table>\n"
      ],
      "text/plain": [
       "<pandas.io.formats.style.Styler at 0x1860bf0fca0>"
      ]
     },
     "execution_count": 4,
     "metadata": {},
     "output_type": "execute_result"
    }
   ],
   "source": [
    "# SOFRカーブ作成\n",
    "sofrIX, sfCrvOBJ, sfCrvHDL, sfParRATE = makeSofrCurve(crvDATA)\n",
    "nodesDF = pd.DataFrame([(dt.ISO(),df) for dt,df in sfCrvOBJ.nodes()],\n",
    "                                                      columns=['','DF'])\n",
    "print(\"決済日(reference): \", sfCrvOBJ.referenceDate().ISO())\n",
    "nodesDF[1:5].style.format({'DF':'{:.9f}' })"
   ]
  },
  {
   "cell_type": "markdown",
   "metadata": {},
   "source": [
    "**sofrカーブからのTerm Sofrカーブ作成**"
   ]
  },
  {
   "cell_type": "markdown",
   "metadata": {},
   "source": [
    "<img src='TsfrCrvData-Sep26,2023.png' width='600'>"
   ]
  },
  {
   "cell_type": "code",
   "execution_count": 5,
   "metadata": {},
   "outputs": [
    {
     "name": "stdout",
     "output_type": "stream",
     "text": [
      "決済日(reference):  2023-09-28\n"
     ]
    },
    {
     "data": {
      "text/plain": [
       "[('2023-09-28', 1.0),\n",
       " ('2023-12-28', 0.9865692901876598),\n",
       " ('2024-03-28', 0.9731621804931488),\n",
       " ('2024-06-28', 0.9600022193693677),\n",
       " ('2024-09-30', 0.9472254399920353)]"
      ]
     },
     "execution_count": 5,
     "metadata": {},
     "output_type": "execute_result"
    }
   ],
   "source": [
    "# Term SOFR rate and Basis curve ( = all zero)\n",
    "TsfRT3m  = 5.38558\n",
    "TsfCrvBS = [('6m',0), ('9m',0), ('12m',0),('18m',0),('2y',0), ('3y',0), ('4y',0), \n",
    "            ('5y',0), ('6y',0), ('7y',0), ('8y',0), ('9y',0), ('10y',0),('12y',0),\n",
    "            ('15y',0),('20y',0),('25y',0),('30y',0),('40y',0),('50y',0)          ]\n",
    "\n",
    "# 1.TermSOFR指標金利オブジェクト\n",
    "TsfCrvHDL = ql.RelinkableYieldTermStructureHandle()  \n",
    "TsfIX = ql.IborIndex('TermSofr', pdFreqQ, Tp2, usdFX, calUSs, mFLLW,\n",
    "                                                      EoMf, dcA360, TsfCrvHDL)\n",
    "# 2. Basis helperでのTermSOFRカーブオブジェクト\n",
    "cHelper = [ql.DepositRateHelper(mu.sqHDL(TsfRT3m/100),TsfIX)]\n",
    "for tnr, rt in TsfCrvBS:\n",
    "    cHelper.append(\n",
    "            ql.OvernightIborBasisSwapRateHelper(mu.sqHDL(rt/100),\n",
    "            ql.Period(tnr), Tp2, calUSs, mFLLW, EoMf, sofrIX, TsfIX, sfCrvHDL))\n",
    "TsfCrvOBJ = ql.PiecewiseLogLinearDiscount(Tp2, calUSs, cHelper, dcA360)\n",
    "TsfCrvHDL.linkTo(TsfCrvOBJ) ; TsfCrvOBJ.enableExtrapolation()\n",
    "# checking\n",
    "print(\"決済日(reference): \", TsfCrvOBJ.referenceDate().ISO())\n",
    "[(dt.ISO(), df) for dt, df in TsfCrvOBJ.nodes()][:5]"
   ]
  },
  {
   "cell_type": "markdown",
   "metadata": {},
   "source": [
    "**アニュイティ、フォワードレートの計算**  \n",
    "- Flat version\n"
   ]
  },
  {
   "cell_type": "markdown",
   "metadata": {},
   "source": [
    "<img src='Tsf3m-Cap5p-1y-Main-Sep26,2023.png' width='500'>"
   ]
  },
  {
   "cell_type": "markdown",
   "metadata": {},
   "source": [
    "<img src='Tsf3m-Cap5p-1y-CF-Sep26,2023.png' width='800'>"
   ]
  },
  {
   "cell_type": "code",
   "execution_count": 6,
   "metadata": {},
   "outputs": [
    {
     "name": "stdout",
     "output_type": "stream",
     "text": [
      "Schedule:  ['2023-09-28', '2023-12-28', '2024-03-28', '2024-06-28', '2024-09-30']\n",
      "capNPV  :   42,851.56\n"
     ]
    }
   ],
   "source": [
    "# cap条件とSchedule\n",
    "effDT,                 matDT,         capSTK,   ntlAMT,     volRT     = \\\n",
    "mu.jDT(2023,9,28), mu.jDT(2024,9,28),  0.05,  10_000_000,  0.88/100\n",
    "\n",
    "capSCD  = ql.Schedule(effDT,matDT,pdFreqQ,calUSs,mFLLW,mFLLW,dgRULEb,EoMf)\n",
    "print('Schedule: ', [dd.ISO() for dd in list(capSCD)]) # checking\n",
    "\n",
    "# プライシング\n",
    "capENG = ql.BachelierCapFloorEngine(sfCrvHDL, mu.sqHDL(volRT))   \n",
    "capLeg = ql.IborLeg([ntlAMT], capSCD, TsfIX, dcA360)\n",
    "capOBJ = ql.Cap(capLeg, [capSTK]) ; capOBJ.setPricingEngine(capENG)\n",
    "print(f'capNPV  :   {capOBJ.NPV():,.2f}')"
   ]
  },
  {
   "cell_type": "code",
   "execution_count": 7,
   "metadata": {},
   "outputs": [
    {
     "data": {
      "text/html": [
       "<style type=\"text/css\">\n",
       "</style>\n",
       "<table id=\"T_c9758_\">\n",
       "  <thead>\n",
       "    <tr>\n",
       "      <th class=\"blank level0\" >&nbsp;</th>\n",
       "      <th class=\"col_heading level0 col0\" >stdDEV</th>\n",
       "      <th class=\"col_heading level0 col1\" >atmFWD</th>\n",
       "      <th class=\"col_heading level0 col2\" >letDF</th>\n",
       "      <th class=\"col_heading level0 col3\" >letNPV</th>\n",
       "    </tr>\n",
       "  </thead>\n",
       "  <tbody>\n",
       "    <tr>\n",
       "      <th id=\"T_c9758_level0_row0\" class=\"row_heading level0 row0\" >0</th>\n",
       "      <td id=\"T_c9758_row0_col0\" class=\"data row0 col0\" >0.000000</td>\n",
       "      <td id=\"T_c9758_row0_col1\" class=\"data row0 col1\" >5.385580%</td>\n",
       "      <td id=\"T_c9758_row0_col2\" class=\"data row0 col2\" >0.986286</td>\n",
       "      <td id=\"T_c9758_row0_col3\" class=\"data row0 col3\" >9,612.94</td>\n",
       "    </tr>\n",
       "    <tr>\n",
       "      <th id=\"T_c9758_level0_row1\" class=\"row_heading level0 row1\" >1</th>\n",
       "      <td id=\"T_c9758_row1_col0\" class=\"data row1 col0\" >0.004394</td>\n",
       "      <td id=\"T_c9758_row1_col1\" class=\"data row1 col1\" >5.450183%</td>\n",
       "      <td id=\"T_c9758_row1_col2\" class=\"data row1 col2\" >0.972875</td>\n",
       "      <td id=\"T_c9758_row1_col3\" class=\"data row1 col3\" >11,929.92</td>\n",
       "    </tr>\n",
       "    <tr>\n",
       "      <th id=\"T_c9758_level0_row2\" class=\"row_heading level0 row2\" >2</th>\n",
       "      <td id=\"T_c9758_row2_col0\" class=\"data row2 col0\" >0.006214</td>\n",
       "      <td id=\"T_c9758_row2_col1\" class=\"data row2 col1\" >5.364102%</td>\n",
       "      <td id=\"T_c9758_row2_col2\" class=\"data row2 col2\" >0.959719</td>\n",
       "      <td id=\"T_c9758_row2_col3\" class=\"data row2 col3\" >11,559.98</td>\n",
       "    </tr>\n",
       "    <tr>\n",
       "      <th id=\"T_c9758_level0_row3\" class=\"row_heading level0 row3\" >3</th>\n",
       "      <td id=\"T_c9758_row3_col0\" class=\"data row3 col0\" >0.007625</td>\n",
       "      <td id=\"T_c9758_row3_col1\" class=\"data row3 col1\" >5.165861%</td>\n",
       "      <td id=\"T_c9758_row3_col2\" class=\"data row3 col2\" >0.946946</td>\n",
       "      <td id=\"T_c9758_row3_col3\" class=\"data row3 col3\" >9,748.72</td>\n",
       "    </tr>\n",
       "  </tbody>\n",
       "</table>\n"
      ],
      "text/plain": [
       "<pandas.io.formats.style.Styler at 0x1861182e580>"
      ]
     },
     "execution_count": 7,
     "metadata": {},
     "output_type": "execute_result"
    }
   ],
   "source": [
    "# caplet明細\n",
    "dfLET = pd.DataFrame(dict(\n",
    "            stdDEV = (capOBJ.optionletsStdDev()),    #stdDev=σ√T\n",
    "            atmFWD = (capOBJ.optionletsAtmForward()),\n",
    "            letDF  = (capOBJ.optionletsDiscountFactor()), \n",
    "            letNPV = (capOBJ.optionletsPrice())          ))\n",
    "dfLET.style.format({'atmFWD':'{:.6%}', 'letNPV':'{:,.2f}'})"
   ]
  },
  {
   "cell_type": "code",
   "execution_count": 8,
   "metadata": {},
   "outputs": [
    {
     "data": {
      "text/html": [
       "<style type=\"text/css\">\n",
       "</style>\n",
       "<table id=\"T_3db59_\">\n",
       "  <thead>\n",
       "    <tr>\n",
       "      <th class=\"blank level0\" >&nbsp;</th>\n",
       "      <th class=\"col_heading level0 col0\" >matYR</th>\n",
       "      <th class=\"col_heading level0 col1\" >fixingDate</th>\n",
       "      <th class=\"col_heading level0 col2\" >accruStart</th>\n",
       "      <th class=\"col_heading level0 col3\" >accruEnd</th>\n",
       "      <th class=\"col_heading level0 col4\" >payDate</th>\n",
       "      <th class=\"col_heading level0 col5\" >days</th>\n",
       "      <th class=\"col_heading level0 col6\" >TsfDF</th>\n",
       "      <th class=\"col_heading level0 col7\" >stdDEV</th>\n",
       "      <th class=\"col_heading level0 col8\" >atmFWD</th>\n",
       "      <th class=\"col_heading level0 col9\" >letDF</th>\n",
       "      <th class=\"col_heading level0 col10\" >letNPV</th>\n",
       "    </tr>\n",
       "  </thead>\n",
       "  <tbody>\n",
       "    <tr>\n",
       "      <th id=\"T_3db59_level0_row0\" class=\"row_heading level0 row0\" >0</th>\n",
       "      <td id=\"T_3db59_row0_col0\" class=\"data row0 col0\" >0.0000</td>\n",
       "      <td id=\"T_3db59_row0_col1\" class=\"data row0 col1\" >2023-09-26</td>\n",
       "      <td id=\"T_3db59_row0_col2\" class=\"data row0 col2\" >2023-09-28</td>\n",
       "      <td id=\"T_3db59_row0_col3\" class=\"data row0 col3\" >2023-12-28</td>\n",
       "      <td id=\"T_3db59_row0_col4\" class=\"data row0 col4\" >2023-12-28</td>\n",
       "      <td id=\"T_3db59_row0_col5\" class=\"data row0 col5\" >91</td>\n",
       "      <td id=\"T_3db59_row0_col6\" class=\"data row0 col6\" >0.98656929</td>\n",
       "      <td id=\"T_3db59_row0_col7\" class=\"data row0 col7\" >0.000000</td>\n",
       "      <td id=\"T_3db59_row0_col8\" class=\"data row0 col8\" >5.385580%</td>\n",
       "      <td id=\"T_3db59_row0_col9\" class=\"data row0 col9\" >0.986286</td>\n",
       "      <td id=\"T_3db59_row0_col10\" class=\"data row0 col10\" >9,612.94</td>\n",
       "    </tr>\n",
       "    <tr>\n",
       "      <th id=\"T_3db59_level0_row1\" class=\"row_heading level0 row1\" >1</th>\n",
       "      <td id=\"T_3db59_row1_col0\" class=\"data row1 col0\" >0.2493</td>\n",
       "      <td id=\"T_3db59_row1_col1\" class=\"data row1 col1\" >2023-12-26</td>\n",
       "      <td id=\"T_3db59_row1_col2\" class=\"data row1 col2\" >2023-12-28</td>\n",
       "      <td id=\"T_3db59_row1_col3\" class=\"data row1 col3\" >2024-03-28</td>\n",
       "      <td id=\"T_3db59_row1_col4\" class=\"data row1 col4\" >2024-03-28</td>\n",
       "      <td id=\"T_3db59_row1_col5\" class=\"data row1 col5\" >91</td>\n",
       "      <td id=\"T_3db59_row1_col6\" class=\"data row1 col6\" >0.97316218</td>\n",
       "      <td id=\"T_3db59_row1_col7\" class=\"data row1 col7\" >0.004394</td>\n",
       "      <td id=\"T_3db59_row1_col8\" class=\"data row1 col8\" >5.450183%</td>\n",
       "      <td id=\"T_3db59_row1_col9\" class=\"data row1 col9\" >0.972875</td>\n",
       "      <td id=\"T_3db59_row1_col10\" class=\"data row1 col10\" >11,929.92</td>\n",
       "    </tr>\n",
       "    <tr>\n",
       "      <th id=\"T_3db59_level0_row2\" class=\"row_heading level0 row2\" >2</th>\n",
       "      <td id=\"T_3db59_row2_col0\" class=\"data row2 col0\" >0.4986</td>\n",
       "      <td id=\"T_3db59_row2_col1\" class=\"data row2 col1\" >2024-03-26</td>\n",
       "      <td id=\"T_3db59_row2_col2\" class=\"data row2 col2\" >2024-03-28</td>\n",
       "      <td id=\"T_3db59_row2_col3\" class=\"data row2 col3\" >2024-06-28</td>\n",
       "      <td id=\"T_3db59_row2_col4\" class=\"data row2 col4\" >2024-06-28</td>\n",
       "      <td id=\"T_3db59_row2_col5\" class=\"data row2 col5\" >92</td>\n",
       "      <td id=\"T_3db59_row2_col6\" class=\"data row2 col6\" >0.96000222</td>\n",
       "      <td id=\"T_3db59_row2_col7\" class=\"data row2 col7\" >0.006214</td>\n",
       "      <td id=\"T_3db59_row2_col8\" class=\"data row2 col8\" >5.364102%</td>\n",
       "      <td id=\"T_3db59_row2_col9\" class=\"data row2 col9\" >0.959719</td>\n",
       "      <td id=\"T_3db59_row2_col10\" class=\"data row2 col10\" >11,559.98</td>\n",
       "    </tr>\n",
       "    <tr>\n",
       "      <th id=\"T_3db59_level0_row3\" class=\"row_heading level0 row3\" >3</th>\n",
       "      <td id=\"T_3db59_row3_col0\" class=\"data row3 col0\" >0.7507</td>\n",
       "      <td id=\"T_3db59_row3_col1\" class=\"data row3 col1\" >2024-06-26</td>\n",
       "      <td id=\"T_3db59_row3_col2\" class=\"data row3 col2\" >2024-06-28</td>\n",
       "      <td id=\"T_3db59_row3_col3\" class=\"data row3 col3\" >2024-09-30</td>\n",
       "      <td id=\"T_3db59_row3_col4\" class=\"data row3 col4\" >2024-09-30</td>\n",
       "      <td id=\"T_3db59_row3_col5\" class=\"data row3 col5\" >94</td>\n",
       "      <td id=\"T_3db59_row3_col6\" class=\"data row3 col6\" >0.94722544</td>\n",
       "      <td id=\"T_3db59_row3_col7\" class=\"data row3 col7\" >0.007625</td>\n",
       "      <td id=\"T_3db59_row3_col8\" class=\"data row3 col8\" >5.165861%</td>\n",
       "      <td id=\"T_3db59_row3_col9\" class=\"data row3 col9\" >0.946946</td>\n",
       "      <td id=\"T_3db59_row3_col10\" class=\"data row3 col10\" >9,748.72</td>\n",
       "    </tr>\n",
       "  </tbody>\n",
       "</table>\n"
      ],
      "text/plain": [
       "<pandas.io.formats.style.Styler at 0x186109d4880>"
      ]
     },
     "execution_count": 8,
     "metadata": {},
     "output_type": "execute_result"
    }
   ],
   "source": [
    "# caplet日付関連\n",
    "dfCap = pd.DataFrame({\n",
    "    'matYR':      dcA365.yearFraction(tradeDT, cpn.fixingDate()), #maturity year\n",
    "    'fixingDate': cpn.fixingDate().ISO(),\n",
    "    'accruStart': cpn.accrualStartDate().ISO(),\n",
    "    'accruEnd':   cpn.accrualEndDate().ISO(),\n",
    "    'payDate':    cpn.date().ISO(),\n",
    "    'days':       dcA360.dayCount(cpn.accrualStartDate(),cpn.accrualEndDate()),\n",
    "    'TsfDF':      TsfCrvOBJ.discount(cpn.date())            #calc forward rate \n",
    "    } for cpn in map(ql.as_floating_rate_coupon, capLeg)) \n",
    "\n",
    "dfCap = pd.concat([dfCap, dfLET], axis=1)\n",
    "dfCap.style.format({'matYR':'{:.4f}','TsfDF':'{:.8f}','atmFWD':'{:.6%}', 'letNPV':'{:,.2f}'})"
   ]
  },
  {
   "cell_type": "code",
   "execution_count": 9,
   "metadata": {},
   "outputs": [
    {
     "name": "stdout",
     "output_type": "stream",
     "text": [
      "optPRC:0.394273%, 受渡金額:9,748.72\n"
     ]
    }
   ],
   "source": [
    "# caplet3の手計算 (PC:call=1 put=-1, TT:満期年, SD:stdDev=σ√T)\n",
    "PC,        FF,         XX,         TT,              SD        =\\\n",
    "1,  dfCap.atmFWD[3], capSTK, dfCap.matYR[3], dfCap.stdDEV[3]\n",
    "\n",
    "# オプション計算\n",
    "d1     = PC*(FF-XX)/SD\n",
    "optPRC = SD*(d1*norm.cdf(d1) + norm.pdf(d1))\n",
    "optAMT = dfCap.letDF[3] * optPRC * dfCap.days[3]/360 * ntlAMT\n",
    "print(f'optPRC:{optPRC:.6%}, 受渡金額:{optAMT:,.2f}')"
   ]
  },
  {
   "cell_type": "code",
   "execution_count": 10,
   "metadata": {},
   "outputs": [
    {
     "name": "stdout",
     "output_type": "stream",
     "text": [
      "diffDF  : [0.01343071 0.01340711 0.01315996 0.01277678]\n",
      "fwdRT: [0.0538558  0.05450183 0.05364102 0.05165861]\n"
     ]
    }
   ],
   "source": [
    "# (参考)フォワードレート手計算\n",
    "import numpy as np\n",
    "DFs = np.array([TsfCrvOBJ.discount(dd) for dd in capSCD]) \n",
    "diffDF = np.diff(DFs)*(-1)      ; print('diffDF  :',diffDF)\n",
    "capTNR = np.diff(np.array([dcA360.yearFraction(effDT, dd) for dd in capSCD]))\n",
    "fwdRT = diffDF/(capTNR*DFs[1:]) ; print('fwdRT:',fwdRT)"
   ]
  },
  {
   "cell_type": "code",
   "execution_count": null,
   "metadata": {},
   "outputs": [],
   "source": []
  }
 ],
 "metadata": {
  "kernelspec": {
   "display_name": "Python 3 (ipykernel)",
   "language": "python",
   "name": "python3"
  },
  "language_info": {
   "codemirror_mode": {
    "name": "ipython",
    "version": 3
   },
   "file_extension": ".py",
   "mimetype": "text/x-python",
   "name": "python",
   "nbconvert_exporter": "python",
   "pygments_lexer": "ipython3",
   "version": "3.9.7"
  },
  "vscode": {
   "interpreter": {
    "hash": "a077222d77dfe082b8f1dd562ad70e458ac2ab76993a0b248ab0476e32e9e8dd"
   }
  }
 },
 "nbformat": 4,
 "nbformat_minor": 1
}
