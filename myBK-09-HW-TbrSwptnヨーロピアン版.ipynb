{
 "cells": [
  {
   "cell_type": "markdown",
   "metadata": {},
   "source": [
    "**Tibor Swaption using Hull White model**\n",
    "- [QuantLib - Calibrating Hull White one-factor on negative interest rates](https://quant.stackexchange.com/questions/59269/quantlib-calibrating-hull-white-one-factor-on-negative-interest-rates?rq=1)\n",
    "- [bermudan-swaption in QuantLib-SWIG](https://github.com/lballabio/QuantLib-SWIG/blob/master/Python/examples/bermudan-swaption.py) "
   ]
  },
  {
   "cell_type": "markdown",
   "metadata": {},
   "source": [
    "Tibor curve at Aug19, 2022  \n",
    "<img src='TiborCurve08192022.png' width='600'>"
   ]
  },
  {
   "cell_type": "markdown",
   "metadata": {},
   "source": [
    "1. イールドカーブ、ボラティリティデータ 設定"
   ]
  },
  {
   "cell_type": "code",
   "execution_count": 1,
   "metadata": {},
   "outputs": [
    {
     "name": "stdout",
     "output_type": "stream",
     "text": [
      "決済日(reference):  2022-08-23\n"
     ]
    },
    {
     "data": {
      "text/html": [
       "<style type=\"text/css\">\n",
       "</style>\n",
       "<table id=\"T_8c88f_\">\n",
       "  <thead>\n",
       "    <tr>\n",
       "      <th class=\"blank level0\" >&nbsp;</th>\n",
       "      <th class=\"col_heading level0 col0\" ></th>\n",
       "      <th class=\"col_heading level0 col1\" >DF</th>\n",
       "    </tr>\n",
       "  </thead>\n",
       "  <tbody>\n",
       "    <tr>\n",
       "      <th id=\"T_8c88f_level0_row0\" class=\"row_heading level0 row0\" >0</th>\n",
       "      <td id=\"T_8c88f_row0_col0\" class=\"data row0 col0\" >2022-08-23</td>\n",
       "      <td id=\"T_8c88f_row0_col1\" class=\"data row0 col1\" >1.000000000</td>\n",
       "    </tr>\n",
       "    <tr>\n",
       "      <th id=\"T_8c88f_level0_row1\" class=\"row_heading level0 row1\" >1</th>\n",
       "      <td id=\"T_8c88f_row1_col0\" class=\"data row1 col0\" >2023-02-24</td>\n",
       "      <td id=\"T_8c88f_row1_col1\" class=\"data row1 col1\" >0.999309338</td>\n",
       "    </tr>\n",
       "    <tr>\n",
       "      <th id=\"T_8c88f_level0_row2\" class=\"row_heading level0 row2\" >2</th>\n",
       "      <td id=\"T_8c88f_row2_col0\" class=\"data row2 col0\" >2023-08-23</td>\n",
       "      <td id=\"T_8c88f_row2_col1\" class=\"data row2 col1\" >0.998476779</td>\n",
       "    </tr>\n",
       "    <tr>\n",
       "      <th id=\"T_8c88f_level0_row3\" class=\"row_heading level0 row3\" >3</th>\n",
       "      <td id=\"T_8c88f_row3_col0\" class=\"data row3 col0\" >2024-02-26</td>\n",
       "      <td id=\"T_8c88f_row3_col1\" class=\"data row3 col1\" >0.997170374</td>\n",
       "    </tr>\n",
       "    <tr>\n",
       "      <th id=\"T_8c88f_level0_row4\" class=\"row_heading level0 row4\" >4</th>\n",
       "      <td id=\"T_8c88f_row4_col0\" class=\"data row4 col0\" >2024-08-23</td>\n",
       "      <td id=\"T_8c88f_row4_col1\" class=\"data row4 col1\" >0.995895547</td>\n",
       "    </tr>\n",
       "  </tbody>\n",
       "</table>\n"
      ],
      "text/plain": [
       "<pandas.io.formats.style.Styler at 0x2acbf4d1b50>"
      ]
     },
     "execution_count": 1,
     "metadata": {},
     "output_type": "execute_result"
    }
   ],
   "source": [
    "import QuantLib as ql ; import pandas as pd\n",
    "import myUtil as mu ; from myABBR import *\n",
    "tradeDT = mu.jDT(2022,8,19) ; mu.setEvDT(tradeDT)\n",
    "# Tiborカーブ準備\n",
    "crvDATA = [ ('depo','6m',0.13636),  ('swap','1y',0.15249),  ('swap','18m',0.18742), \n",
    "            ('swap','2y',0.20541),  ('swap','3y',0.23156),  ('swap','4y',0.25653), \n",
    "            ('swap','5y',0.28528),  ('swap','6y',0.32341),  ('swap','7y',0.36591), \n",
    "            ('swap','8y',0.40906),  ('swap','9y',0.45471),  ('swap','10y',0.50224)] \n",
    "tbrIX, tbCrvOBJ, tbCrvHDL, tbParRATE = mu.makeTiborCurve(crvDATA)\n",
    "# check\n",
    "nodesDF = pd.DataFrame([(dt.ISO(),df) for dt,df in tbCrvOBJ.nodes()], \n",
    "                                                                columns=['','DF'])\n",
    "print(\"決済日(reference): \", tbCrvOBJ.referenceDate().ISO())\n",
    "nodesDF[:5].style.format({'DF':'{:.9f}' })"
   ]
  },
  {
   "cell_type": "markdown",
   "metadata": {},
   "source": [
    "2. カリブレーション ( Hull Whiteモデル + Jamshidianエンジンの指定 )"
   ]
  },
  {
   "cell_type": "markdown",
   "metadata": {},
   "source": [
    "- hwMDLオブジェクトのcalibrateメソッドの仕様(Methods inherited from \"CalibratedModel\")\n",
    "<img src='qlr-calibrate.png' width='550'>  \n",
    " \n",
    "- SwaptionHelperの仕様でnormalボラの場合 errortype以降を指定する必要がある  \n",
    "<img src='SwaptionHelper-const.png' width='550'>"
   ]
  },
  {
   "cell_type": "markdown",
   "metadata": {},
   "source": [
    "- **カリブのエンジンはjamENG = ql.JamshidianSwaptionEngine(hwMDL)**  \n",
    " (21行目)カリブ後 hwMDLのパラメータparams()は上書き\n",
    "- **バミューダンのエンジンは treeENG = ql.TreeSwaptionEngine(hwMDL, timeGRD)**"
   ]
  },
  {
   "cell_type": "code",
   "execution_count": 2,
   "metadata": {},
   "outputs": [
    {
     "name": "stdout",
     "output_type": "stream",
     "text": [
      "カリブレーション結果: [aa, sigma] = [ 0.03; 0.00396173 ]\n",
      "スワップションヘルパー評価 HW: 0.71682%, Black: 71.673, インプライドvol: 0.003606\n"
     ]
    }
   ],
   "source": [
    "#モデル設定 (Hull-Whiteモデル+Jamshidianトリック)\n",
    "aa,sigma = 0.03, 0.10/100 \n",
    "hwMDL    = ql.HullWhite(tbCrvHDL, aa, sigma)\n",
    "jamENG   = ql.JamshidianSwaptionEngine(hwMDL)\n",
    "\n",
    "# ボラティリティ(stYR, swpTNR, nmVOL)\n",
    "#volDATA = [(1,5,32.78), (2,4,30.32), (3,3,29.93), (4,2,30.30), (5,1,31.59)]\n",
    "volDATA  = [(1,5,36.06)]  \n",
    "\n",
    "# スワップション (ノーマルモデル: errorType, strike, nominal, volType)\n",
    "nmlPRM   = (ql.BlackCalibrationHelper.RelativePriceError, \n",
    "                                            ql.nullDouble(), 1.0, ql.Normal)\n",
    "swptnHLP = [ql.SwaptionHelper(ql.Period(stY, ql.Years),ql.Period(tnr, ql.Years),\n",
    "            mu.sqHDL(nV/10000), tbrIX, pdFreqSA, dcA365, dcA365, tbCrvHDL,*nmlPRM ) \n",
    "            for (stY, tnr, nV) in volDATA ] \n",
    "for hh in swptnHLP: hh.setPricingEngine(jamENG) #スワップションにエンジン設定\n",
    "\n",
    "# sigmaのみカリブレーション, aaは0.03に固定 ->> cnstPRM: constraint parameters\n",
    "smplxMTD = ql.Simplex(0.05) ; endCRT = ql.EndCriteria(10000,100,1e-6,1e-8,1e-8)\n",
    "cnstPRM  = (ql.NoConstraint(), [], [True, False])       #<< [fix aa, calib sigma]\n",
    "hwMDL.calibrate(swptnHLP, smplxMTD, endCRT, *cnstPRM)\n",
    "\n",
    "# カリブレーション結果      (NormalとBlackでfaceが異なる?)\n",
    "print(f\"カリブレーション結果: [aa, sigma] = {hwMDL.params()}\")\n",
    "print(\"スワップションヘルパー評価 \", end='' )\n",
    "print(   f\"HW: {swptnHLP[0].modelValue():.5%}\", end=', ' )\n",
    "print(f\"Black: {swptnHLP[0].blackPrice(volDATA[0][2]):.3f}\", end=', ')\n",
    "print('インプライドvol: {:.6f}'.format(\n",
    "    swptnHLP[0].impliedVolatility(swptnHLP[0].modelValue(), 1e-5, 50, 0.0, 0.50)))"
   ]
  },
  {
   "cell_type": "markdown",
   "metadata": {},
   "source": [
    "**jamENGによるスワップション評価**  \n",
    "- カリブ後のsigma=0.00396173で計算"
   ]
  },
  {
   "cell_type": "code",
   "execution_count": 3,
   "metadata": {},
   "outputs": [
    {
     "name": "stdout",
     "output_type": "stream",
     "text": [
      "HW-sigma: 0.396%, NPV: 71,484.141\n"
     ]
    }
   ],
   "source": [
    "# 原資産オブジェクトswapOBJの作成とエンジン設定\n",
    "swEffDT,                 swMatDT,    ntlAMT,     cpnRT,   sprd,       payRcv     =\\\n",
    "mu.jDT(2023,8,23),mu.jDT(2028,8,23),10_000_000, 0.003579, 0.0, ql.VanillaSwap.Payer\n",
    "\n",
    "fixSCD = ql.Schedule(swEffDT, swMatDT, pdFreqSA, calJP, mFLLW, mFLLW, dgRULEb, EoMf)\n",
    "fltSCD = ql.Schedule(swEffDT, swMatDT, pdFreqSA, calJP, mFLLW, mFLLW, dgRULEb, EoMf)\n",
    "swapOBJ = ql.VanillaSwap(payRcv, ntlAMT, fixSCD, cpnRT,       dcA365,\n",
    "                                         fltSCD, tbrIX, sprd, dcA365)\n",
    "swapOBJ.setPricingEngine(ql.DiscountingSwapEngine(tbCrvHDL))\n",
    "\n",
    "# スワップションswptnOBJの評価 \n",
    "opMatDT = mu.jDT(2023,8,21)\n",
    "swptnOBJ = ql.Swaption(swapOBJ, ql.EuropeanExercise(opMatDT))\n",
    "swptnOBJ.setPricingEngine(jamENG)\n",
    "print(f'HW-sigma: {hwMDL.params()[1]:.3%}, NPV: {swptnOBJ.NPV():,.3f}')"
   ]
  },
  {
   "cell_type": "markdown",
   "metadata": {},
   "source": [
    "<img src='TiborSwaptionHW-1x5.png' width='600'>"
   ]
  },
  {
   "cell_type": "code",
   "execution_count": null,
   "metadata": {},
   "outputs": [],
   "source": []
  }
 ],
 "metadata": {
  "kernelspec": {
   "display_name": "Python 3 (ipykernel)",
   "language": "python",
   "name": "python3"
  },
  "language_info": {
   "codemirror_mode": {
    "name": "ipython",
    "version": 3
   },
   "file_extension": ".py",
   "mimetype": "text/x-python",
   "name": "python",
   "nbconvert_exporter": "python",
   "pygments_lexer": "ipython3",
   "version": "3.9.7"
  },
  "vscode": {
   "interpreter": {
    "hash": "a077222d77dfe082b8f1dd562ad70e458ac2ab76993a0b248ab0476e32e9e8dd"
   }
  }
 },
 "nbformat": 4,
 "nbformat_minor": 1
}
